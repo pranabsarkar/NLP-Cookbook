{
 "cells": [
  {
   "cell_type": "code",
   "execution_count": 4,
   "metadata": {},
   "outputs": [],
   "source": [
    "import spacy\n",
    "import random\n",
    "import time\n",
    "import numpy as np\n",
    "from spacy.util import minibatch, compounding"
   ]
  },
  {
   "cell_type": "code",
   "execution_count": 27,
   "metadata": {},
   "outputs": [],
   "source": [
    "from os import path, mkdir\n",
    "\n",
    "if not path.isdir(\"models3/\"):\n",
    "    mkdir(\"models3/\")"
   ]
  },
  {
   "cell_type": "code",
   "execution_count": 41,
   "metadata": {},
   "outputs": [],
   "source": [
    "\n",
    "          \n",
    "TRAIN_DATA=[['Xadago are too tall and they pretend to care about your feelings',{'entities': [(0, 6, 'DRUG')]}],\n",
    "    ['Xadago are too tall and they pretend to care about your feelings', {'entities': [(0, 6, 'DRUG')]}],\n",
    "    ['Xadago pretend to care about your feelings', {'entities': [(0, 6, 'DRUG')]}],\n",
    "    ['they pretend to care about your feelings, those Madago', {'entities': [(48, 54, 'MEDI')]}],\n",
    "    ['Jadago?', {'entities': [(0, 6, 'MEDI')]}]\n",
    "    ]\n",
    "LABELS = ['DRUG','MEDI']\n"
   ]
  },
  {
   "cell_type": "code",
   "execution_count": 42,
   "metadata": {},
   "outputs": [
    {
     "data": {
      "text/plain": [
       "[['Xadago are too tall and they pretend to care about your feelings',\n",
       "  {'entities': [(0, 6, 'DRUG')]}],\n",
       " ['Xadago are too tall and they pretend to care about your feelings',\n",
       "  {'entities': [(0, 6, 'DRUG')]}],\n",
       " ['Xadago pretend to care about your feelings',\n",
       "  {'entities': [(0, 6, 'DRUG')]}],\n",
       " ['they pretend to care about your feelings, those Madago',\n",
       "  {'entities': [(48, 54, 'MEDI')]}],\n",
       " ['Jadago?', {'entities': [(0, 6, 'MEDI')]}]]"
      ]
     },
     "execution_count": 42,
     "metadata": {},
     "output_type": "execute_result"
    }
   ],
   "source": [
    "TRAIN_DATA"
   ]
  },
  {
   "cell_type": "code",
   "execution_count": 48,
   "metadata": {},
   "outputs": [
    {
     "name": "stdout",
     "output_type": "stream",
     "text": [
      "Iteration 1 Loss: {'ner': 38.425674080848694}\n",
      "Iteration 2 Loss: {'ner': 36.328261494636536}\n",
      "Iteration 3 Loss: {'ner': 30.211132168769836}\n",
      "Iteration 4 Loss: {'ner': 18.654891654849052}\n",
      "Iteration 5 Loss: {'ner': 9.92096258699894}\n",
      "Iteration 6 Loss: {'ner': 7.449768096801563}\n",
      "Iteration 7 Loss: {'ner': 8.043009520855776}\n",
      "Iteration 8 Loss: {'ner': 6.579349713846227}\n",
      "Iteration 9 Loss: {'ner': 5.001892689098895}\n",
      "Iteration 10 Loss: {'ner': 3.737800239570788}\n",
      "Iteration 11 Loss: {'ner': 3.6278371312773743}\n",
      "Iteration 12 Loss: {'ner': 2.085963350898055}\n",
      "Iteration 13 Loss: {'ner': 1.8078734143759903}\n",
      "Iteration 14 Loss: {'ner': 1.146323315635975}\n",
      "Iteration 15 Loss: {'ner': 0.9286841761459457}\n",
      "Iteration 16 Loss: {'ner': 0.5950170991061035}\n",
      "Iteration 17 Loss: {'ner': 0.2879956646547648}\n",
      "Iteration 18 Loss: {'ner': 0.17613519543920816}\n",
      "Iteration 19 Loss: {'ner': 0.0034951271274366036}\n",
      "Iteration 20 Loss: {'ner': 0.004195592513404733}\n",
      "Completed in 3 seconds\n"
     ]
    }
   ],
   "source": [
    "# A simple decorator to log function processing time\n",
    "def timer(method):\n",
    "    def timed(*args, **kw):\n",
    "        ts = time.time()\n",
    "        result = method(*args, **kw)\n",
    "        te = time.time()\n",
    "        print(\"Completed in {} seconds\".format(int(te - ts)))\n",
    "        return result\n",
    "    return timed\n",
    "\n",
    "# Data must be of the form (sentence, {entities: [start, end, label]})\n",
    "@timer\n",
    "def train_spacy(train_data, labels, iterations, dropout = 0.2, display_freq = 1):\n",
    "    ''' Train a spacy NER model, which can be queried against with test data\n",
    "   \n",
    "    train_data : training data in the format of (sentence, {entities: [(start, end, label)]})\n",
    "    labels : a list of unique annotations\n",
    "    iterations : number of training iterations\n",
    "    dropout : dropout proportion for training\n",
    "    display_freq : number of epochs between logging losses to console\n",
    "    '''\n",
    "    nlp = spacy.blank('en')\n",
    "    if 'ner' not in nlp.pipe_names:\n",
    "        ner = nlp.create_pipe('ner')\n",
    "        nlp.add_pipe(ner)\n",
    "   \n",
    "    # Add entity labels to the NER pipeline\n",
    "    for i in labels:\n",
    "        ner.add_label(i)\n",
    "\n",
    "    # Disable other pipelines in SpaCy to only train NER\n",
    "    other_pipes = [pipe for pipe in nlp.pipe_names if pipe != 'ner']\n",
    "    with nlp.disable_pipes(*other_pipes):\n",
    "        nlp.vocab.vectors.name = 'spacy_model' # without this, spaCy throws an \"unnamed\" error\n",
    "        optimizer = nlp.begin_training()\n",
    "        for itr in range(iterations):\n",
    "            random.shuffle(train_data) # shuffle the training data before each iteration\n",
    "            losses = {}\n",
    "            batches = minibatch(train_data, size = compounding(4., 32., 1.001))\n",
    "            for batch in batches:\n",
    "                texts, annotations = zip(*batch)\n",
    "                nlp.update(          \n",
    "                    texts,\n",
    "                    annotations,\n",
    "                    drop = dropout,  \n",
    "                    sgd = optimizer,\n",
    "                    losses = losses)\n",
    "            if itr % display_freq == 0:\n",
    "                print(\"Iteration {} Loss: {}\".format(itr + 1, losses))\n",
    "    return nlp\n",
    "\n",
    "# Train (and save) the NER model\n",
    "ner = train_spacy(TRAIN_DATA, LABELS,20)\n",
    "ner.to_disk(\"models3/spacy_example\")"
   ]
  },
  {
   "cell_type": "code",
   "execution_count": 57,
   "metadata": {},
   "outputs": [],
   "source": [
    "from spacy import displacy\n",
    "\n",
    "def load_model(model_path):\n",
    "    ''' Loads a pre-trained model for prediction on new test sentences\n",
    "   \n",
    "    model_path : directory of model saved by spacy.to_disk\n",
    "    '''\n",
    "    nlp = spacy.blank('en')\n",
    "    if 'ner' not in nlp.pipe_names:\n",
    "        ner = nlp.create_pipe('ner')\n",
    "        nlp.add_pipe(ner)\n",
    "    ner = nlp.from_disk(model_path)\n",
    "    return ner\n",
    "\n",
    "ner = load_model(\"models3/spacy_example\")\n",
    "\n",
    "#TEST_DATA, _ = load_data_spacy(\"data/test.txt\")\n",
    "\n",
    "\n"
   ]
  },
  {
   "cell_type": "code",
   "execution_count": 58,
   "metadata": {},
   "outputs": [],
   "source": [
    "m=ner(\"Xadago pretend to care about your feelings\")"
   ]
  },
  {
   "cell_type": "code",
   "execution_count": 59,
   "metadata": {},
   "outputs": [
    {
     "name": "stdout",
     "output_type": "stream",
     "text": [
      "Entities [('Xadago', 'DRUG')]\n"
     ]
    }
   ],
   "source": [
    "print('Entities', [(ent.text, ent.label_) for ent in m.ents])"
   ]
  },
  {
   "cell_type": "code",
   "execution_count": 60,
   "metadata": {},
   "outputs": [],
   "source": [
    "test_sentences = [x[0] for x in TRAIN_DATA]"
   ]
  },
  {
   "cell_type": "code",
   "execution_count": 61,
   "metadata": {},
   "outputs": [
    {
     "data": {
      "text/html": [
       "<span class=\"tex2jax_ignore\"><div class=\"entities\" style=\"line-height: 2.5; direction: ltr\">\n",
       "<mark class=\"entity\" style=\"background: #ddd; padding: 0.45em 0.6em; margin: 0 0.25em; line-height: 1; border-radius: 0.35em;\">\n",
       "    Xadago\n",
       "    <span style=\"font-size: 0.8em; font-weight: bold; line-height: 1; border-radius: 0.35em; text-transform: uppercase; vertical-align: middle; margin-left: 0.5rem\">DRUG</span>\n",
       "</mark>\n",
       " are too tall and they pretend to care about your feelings</div></span>"
      ],
      "text/plain": [
       "<IPython.core.display.HTML object>"
      ]
     },
     "metadata": {},
     "output_type": "display_data"
    },
    {
     "data": {
      "text/html": [
       "<span class=\"tex2jax_ignore\"><div class=\"entities\" style=\"line-height: 2.5; direction: ltr\">\n",
       "<mark class=\"entity\" style=\"background: #ddd; padding: 0.45em 0.6em; margin: 0 0.25em; line-height: 1; border-radius: 0.35em;\">\n",
       "    Xadago\n",
       "    <span style=\"font-size: 0.8em; font-weight: bold; line-height: 1; border-radius: 0.35em; text-transform: uppercase; vertical-align: middle; margin-left: 0.5rem\">DRUG</span>\n",
       "</mark>\n",
       " are too tall and they pretend to care about your feelings</div></span>"
      ],
      "text/plain": [
       "<IPython.core.display.HTML object>"
      ]
     },
     "metadata": {},
     "output_type": "display_data"
    },
    {
     "data": {
      "text/html": [
       "<span class=\"tex2jax_ignore\"><div class=\"entities\" style=\"line-height: 2.5; direction: ltr\">they pretend to care about your feelings, those \n",
       "<mark class=\"entity\" style=\"background: #ddd; padding: 0.45em 0.6em; margin: 0 0.25em; line-height: 1; border-radius: 0.35em;\">\n",
       "    Madago\n",
       "    <span style=\"font-size: 0.8em; font-weight: bold; line-height: 1; border-radius: 0.35em; text-transform: uppercase; vertical-align: middle; margin-left: 0.5rem\">MEDI</span>\n",
       "</mark>\n",
       "</div></span>"
      ],
      "text/plain": [
       "<IPython.core.display.HTML object>"
      ]
     },
     "metadata": {},
     "output_type": "display_data"
    },
    {
     "data": {
      "text/html": [
       "<span class=\"tex2jax_ignore\"><div class=\"entities\" style=\"line-height: 2.5; direction: ltr\">\n",
       "<mark class=\"entity\" style=\"background: #ddd; padding: 0.45em 0.6em; margin: 0 0.25em; line-height: 1; border-radius: 0.35em;\">\n",
       "    Xadago\n",
       "    <span style=\"font-size: 0.8em; font-weight: bold; line-height: 1; border-radius: 0.35em; text-transform: uppercase; vertical-align: middle; margin-left: 0.5rem\">DRUG</span>\n",
       "</mark>\n",
       " pretend to care about your feelings</div></span>"
      ],
      "text/plain": [
       "<IPython.core.display.HTML object>"
      ]
     },
     "metadata": {},
     "output_type": "display_data"
    },
    {
     "data": {
      "text/html": [
       "<span class=\"tex2jax_ignore\"><div class=\"entities\" style=\"line-height: 2.5; direction: ltr\">\n",
       "<mark class=\"entity\" style=\"background: #ddd; padding: 0.45em 0.6em; margin: 0 0.25em; line-height: 1; border-radius: 0.35em;\">\n",
       "    Jadago\n",
       "    <span style=\"font-size: 0.8em; font-weight: bold; line-height: 1; border-radius: 0.35em; text-transform: uppercase; vertical-align: middle; margin-left: 0.5rem\">MEDI</span>\n",
       "</mark>\n",
       "?</div></span>"
      ],
      "text/plain": [
       "<IPython.core.display.HTML object>"
      ]
     },
     "metadata": {},
     "output_type": "display_data"
    }
   ],
   "source": [
    "# extract the sentences from [sentence, entity]\n",
    "for x in test_sentences:\n",
    "    doc = ner(x)\n",
    "    displacy.render(doc, jupyter = True, style = \"ent\")"
   ]
  },
  {
   "cell_type": "code",
   "execution_count": 62,
   "metadata": {},
   "outputs": [],
   "source": [
    "def calc_precision(pred, true):        \n",
    "    precision = len([x for x in pred if x in true]) / (len(pred) + 1e-20) # true positives / total pred\n",
    "    return precision\n",
    "\n",
    "def calc_recall(pred, true):\n",
    "    recall = len([x for x in true if x in pred]) / (len(true) + 1e-20)    # true positives / total test\n",
    "    return recall\n",
    "\n",
    "def calc_f1(precision, recall):\n",
    "    f1 = 2 * ((precision * recall) / (precision + recall + 1e-20))\n",
    "    return f1\n"
   ]
  },
  {
   "cell_type": "code",
   "execution_count": 63,
   "metadata": {},
   "outputs": [
    {
     "name": "stdout",
     "output_type": "stream",
     "text": [
      "Precision: 1.0 \n",
      "Recall: 1.0 \n",
      "F1-score: 1.0\n"
     ]
    }
   ],
   "source": [
    "from itertools import chain\n",
    "\n",
    "# run the predictions on each sentence in the test dataset, and return the spacy object\n",
    "preds = [ner(x[0]) for x in TRAIN_DATA]\n",
    "\n",
    "precisions, recalls, f1s = [], [], []\n",
    "\n",
    "# iterate over predictions and test data and calculate precision, recall, and F1-score\n",
    "for pred, true in zip(preds, TRAIN_DATA):\n",
    "    true = [x[2] for x in list(chain.from_iterable(true[1].values()))] # x[2] = annotation, true[1] = (start, end, annot)\n",
    "    pred = [i.label_ for i in pred.ents] # i.label_ = annotation label, pred.ents = list of annotations\n",
    "    precision = calc_precision(true, pred)\n",
    "    precisions.append(precision)\n",
    "    recall = calc_recall(true, pred)\n",
    "    recalls.append(recall)\n",
    "    f1s.append(calc_f1(precision, recall))\n",
    "   \n",
    "print(\"Precision: {} \\nRecall: {} \\nF1-score: {}\".format(np.around(np.mean(precisions), 3),\n",
    "                                                         np.around(np.mean(recalls), 3),\n",
    "                                                         np.around(np.mean(f1s), 3)))\n"
   ]
  },
  {
   "cell_type": "code",
   "execution_count": null,
   "metadata": {},
   "outputs": [],
   "source": []
  }
 ],
 "metadata": {
  "kernelspec": {
   "display_name": "Python 3",
   "language": "python",
   "name": "python3"
  },
  "language_info": {
   "codemirror_mode": {
    "name": "ipython",
    "version": 3
   },
   "file_extension": ".py",
   "mimetype": "text/x-python",
   "name": "python",
   "nbconvert_exporter": "python",
   "pygments_lexer": "ipython3",
   "version": "3.5.2"
  }
 },
 "nbformat": 4,
 "nbformat_minor": 4
}
